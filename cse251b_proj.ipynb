{
  "nbformat": 4,
  "nbformat_minor": 0,
  "metadata": {
    "colab": {
      "provenance": [],
      "gpuType": "T4"
    },
    "kernelspec": {
      "name": "python3",
      "display_name": "Python 3"
    },
    "language_info": {
      "name": "python"
    }
  },
  "cells": [
    {
      "cell_type": "code",
      "execution_count": 1,
      "metadata": {
        "id": "aQEFO0hFIuVf"
      },
      "outputs": [],
      "source": [
        "import numpy as np\n",
        "import pandas as pd\n",
        "from sklearn.linear_model import LinearRegression, Ridge, Lasso\n",
        "from sklearn.metrics import mean_squared_error\n",
        "from sklearn.model_selection import KFold\n",
        "import matplotlib.pyplot as plt\n",
        "import matplotlib.animation as animation\n",
        "import torch\n",
        "import torch.nn as nn\n",
        "import torch.optim as optim\n",
        "from torch.utils.data import DataLoader, TensorDataset\n",
        "from tqdm import tqdm\n",
        "\n",
        "\n",
        "\n"
      ]
    },
    {
      "cell_type": "code",
      "source": [
        "from google.colab import drive\n",
        "drive.mount('/content/drive')\n"
      ],
      "metadata": {
        "colab": {
          "base_uri": "https://localhost:8080/"
        },
        "id": "2CVzBBoGLTIf",
        "outputId": "5292616a-711c-44a6-c6e7-debc12edcaa9"
      },
      "execution_count": 2,
      "outputs": [
        {
          "output_type": "stream",
          "name": "stdout",
          "text": [
            "Mounted at /content/drive\n"
          ]
        }
      ]
    },
    {
      "cell_type": "code",
      "source": [
        "train_file = np.load('/content/drive/MyDrive/train.npz')\n",
        "train_data = train_file['data']\n",
        "print(\"train_data's shape\", train_data.shape)\n",
        "\n",
        "test_file = np.load('/content/drive/MyDrive/test_input.npz')\n",
        "test_data = test_file['data']\n",
        "print(\"test_data's shape\", test_data.shape)"
      ],
      "metadata": {
        "id": "AmPGE1CULCiP",
        "colab": {
          "base_uri": "https://localhost:8080/"
        },
        "outputId": "bef3ba9a-b6a2-41c7-f974-e2a32b46da95"
      },
      "execution_count": 3,
      "outputs": [
        {
          "output_type": "stream",
          "name": "stdout",
          "text": [
            "train_data's shape (10000, 50, 110, 6)\n",
            "test_data's shape (2100, 50, 50, 6)\n"
          ]
        }
      ]
    },
    {
      "cell_type": "code",
      "source": [
        "data_matrix = train_data[0]\n",
        "\n",
        "for i in range(data_matrix.shape[0]):\n",
        "    xs = data_matrix[i, :, 0]\n",
        "    ys = data_matrix[i, :, 1]\n",
        "    # trim all zeros\n",
        "    xs = xs[xs != 0]\n",
        "    ys = ys[ys != 0]\n",
        "    # plot each line going from transparent to full\n",
        "    plt.plot(xs, ys)\n",
        "\n",
        "plt.show()"
      ],
      "metadata": {
        "id": "YiPW_y_QNxoR",
        "colab": {
          "base_uri": "https://localhost:8080/",
          "height": 430
        },
        "outputId": "66903ad3-e07b-4e53-fea6-a77a0dd3c9ce"
      },
      "execution_count": 4,
      "outputs": [
        {
          "output_type": "display_data",
          "data": {
            "text/plain": [
              "<Figure size 640x480 with 1 Axes>"
            ],
            "image/png": "[encoded data removed]"
          },
          "metadata": {}
        }
      ]
    },
    {
      "cell_type": "code",
      "source": [
        "# make gif out of a scene.\n",
        "def make_gif(data_matrix, name='example'):\n",
        "   cmap = plt.cm.get_cmap('viridis', 50)\n",
        "   fig, ax = plt.subplots(figsize=(10, 10))\n",
        "   # Function to update plot for each frame\n",
        "   def update(frame):\n",
        "       ax.clear()\n",
        "\n",
        "       # Get data for current timestep\n",
        "       for i in range(1, data_matrix.shape[0]):\n",
        "           x = data_matrix[i, frame, 0]\n",
        "           y = data_matrix[i, frame, 1]\n",
        "           if x != 0 and y != 0:\n",
        "               xs = data_matrix[i, :frame+1, 0]  # Include current frame\n",
        "               ys = data_matrix[i, :frame+1, 1]  # Include current frame\n",
        "               # trim all zeros\n",
        "               mask = (xs != 0) & (ys != 0)  # Only keep points where both x and y are non-zero\n",
        "               xs = xs[mask]\n",
        "               ys = ys[mask]\n",
        "\n",
        "               # Only plot if we have points to plot\n",
        "               if len(xs) > 0 and len(ys) > 0:\n",
        "                   color = cmap(i)\n",
        "                   ax.plot(xs, ys, alpha=0.9, color=color)\n",
        "                   ax.scatter(x, y, s=80, color=color)\n",
        "\n",
        "       ax.plot(data_matrix[0, :frame, 0], data_matrix[0, :frame, 1], color='tab:orange', label='Ego Vehicle')\n",
        "       ax.scatter(data_matrix[0, frame, 0], data_matrix[0, frame, 1], s=80, color='tab:orange')\n",
        "       # Set title with timestep\n",
        "       ax.set_title(f'Timestep {frame}')\n",
        "       # Set consistent axis limits\n",
        "       ax.set_xlim(data_matrix[:,:,0][data_matrix[:,:,0] != 0].min() - 10, data_matrix[:,:,0][data_matrix[:,:,0] != 0].max() + 10)\n",
        "       ax.set_ylim(data_matrix[:,:,1][data_matrix[:,:,1] != 0].min() - 10, data_matrix[:,:,1][data_matrix[:,:,1] != 0].max() + 10)\n",
        "       ax.legend()\n",
        "\n",
        "       return ax.collections + ax.lines\n",
        "\n",
        "   # Create animation\n",
        "   anim = animation.FuncAnimation(fig, update, frames=list(range(0, data_matrix.shape[1], 3)),\n",
        "                               interval=100, blit=True)\n",
        "   # Save as GIF\n",
        "   anim.save(f'trajectory_visualization_{name}.gif', writer='pillow')\n",
        "   plt.close()\n"
      ],
      "metadata": {
        "id": "Y-L3yJ7DqjTL",
        "collapsed": true
      },
      "execution_count": 5,
      "outputs": []
    },
    {
      "cell_type": "code",
      "source": [
        "make_gif(train_data[1], 'index0')"
      ],
      "metadata": {
        "colab": {
          "base_uri": "https://localhost:8080/"
        },
        "id": "7jiTilSID5Or",
        "outputId": "7dc80091-30e0-4ad9-ea77-2105dee0690a"
      },
      "execution_count": 6,
      "outputs": [
        {
          "output_type": "stream",
          "name": "stderr",
          "text": [
            "<ipython-input-5-8885094b5927>:3: MatplotlibDeprecationWarning: The get_cmap function was deprecated in Matplotlib 3.7 and will be removed in 3.11. Use ``matplotlib.colormaps[name]`` or ``matplotlib.colormaps.get_cmap()`` or ``pyplot.get_cmap()`` instead.\n",
            "  cmap = plt.cm.get_cmap('viridis', 50)\n"
          ]
        }
      ]
    },
    {
      "cell_type": "code",
      "source": [
        "# Split x and y for train data.\n",
        "train_x, train_y = train_data[..., :50, :], train_data[:, 0, 50:, :2]\n",
        "\n",
        "# get the average velocity of the prediction agent\n",
        "velocity_diff = train_x[...,1:, :2] - train_x[...,:-1, :2]\n",
        "print(velocity_diff.shape)\n",
        "\n",
        "constant_vel = np.mean(velocity_diff[:,0, :, :], axis=-2)\n",
        "print(constant_vel.shape)"
      ],
      "metadata": {
        "id": "LmUIwf0aOh_X",
        "colab": {
          "base_uri": "https://localhost:8080/"
        },
        "outputId": "8edfafd4-9864-4750-a288-35f3b7fa88c2"
      },
      "execution_count": 7,
      "outputs": [
        {
          "output_type": "stream",
          "name": "stdout",
          "text": [
            "(10000, 50, 49, 2)\n",
            "(10000, 2)\n"
          ]
        }
      ]
    },
    {
      "cell_type": "code",
      "source": [
        "# create pred_y\n",
        "train_pred_y = np.zeros((10000, 60, 2))\n",
        "starting_point = train_x[:, 0, -1, :2] # shape (10000, 2)\n",
        "\n",
        "for t in range(60):\n",
        "    train_pred_y[:,t,:] = starting_point + (t+1) * constant_vel"
      ],
      "metadata": {
        "id": "GkKNvY7VOml1"
      },
      "execution_count": 8,
      "outputs": []
    },
    {
      "cell_type": "code",
      "source": [
        "# calculate train loss\n",
        "mse = ((train_y - train_pred_y)**2).mean()\n",
        "print(mse)"
      ],
      "metadata": {
        "id": "9E0PpcrDOoNf",
        "colab": {
          "base_uri": "https://localhost:8080/"
        },
        "outputId": "dfbfd5cd-1502-4a59-9177-2e459ab8d444"
      },
      "execution_count": 9,
      "outputs": [
        {
          "output_type": "stream",
          "name": "stdout",
          "text": [
            "54.18623384395051\n"
          ]
        }
      ]
    },
    {
      "cell_type": "code",
      "source": [
        "# prepare submission\n",
        "# get the average velocity of the prediction agent\n",
        "velocity_diff = test_data[...,1:, :2] - test_data[...,:-1, :2]\n",
        "print(velocity_diff.shape)\n",
        "\n",
        "constant_vel = np.mean(velocity_diff[:,0, :, :], axis=-2)\n",
        "print(constant_vel.shape)"
      ],
      "metadata": {
        "id": "hoQdPEEAOqxj",
        "colab": {
          "base_uri": "https://localhost:8080/"
        },
        "outputId": "785b82ab-d996-4497-d443-d7686cd1505d"
      },
      "execution_count": 10,
      "outputs": [
        {
          "output_type": "stream",
          "name": "stdout",
          "text": [
            "(2100, 50, 49, 2)\n",
            "(2100, 2)\n"
          ]
        }
      ]
    },
    {
      "cell_type": "code",
      "source": [
        "# create pred_y for test set\n",
        "\n",
        "test_pred_y = np.zeros((2100, 60, 2))\n",
        "starting_point = test_data[:, 0, -1, :2]\n",
        "\n",
        "for t in range(60):\n",
        "    test_pred_y[:,t,:] = starting_point + (t+1) * constant_vel"
      ],
      "metadata": {
        "id": "jGdadkC1OtxP"
      },
      "execution_count": 11,
      "outputs": []
    },
    {
      "cell_type": "code",
      "source": [
        "# reshape to fit desired format: (2100, 60, 2) -> (12600, 2)\n",
        "pred_output = test_pred_y.reshape(-1, 2)\n",
        "output_df = pd.DataFrame(pred_output, columns=['x', 'y'])\n",
        "\n",
        "# adding a necessary step to match index of your prediction to that of the solution key\n",
        "\n",
        "output_df.index.name = 'index'\n",
        "\n",
        "output_df.to_csv('constant_vel_submission.csv')"
      ],
      "metadata": {
        "id": "_GlB1TQ0Ovz9"
      },
      "execution_count": 12,
      "outputs": []
    },
    {
      "cell_type": "code",
      "source": [
        "train_x.shape"
      ],
      "metadata": {
        "id": "oTdFag_FMzqk",
        "colab": {
          "base_uri": "https://localhost:8080/"
        },
        "outputId": "5a5039bc-a72e-4924-d0a7-233c87e91368"
      },
      "execution_count": 13,
      "outputs": [
        {
          "output_type": "execute_result",
          "data": {
            "text/plain": [
              "(10000, 50, 50, 6)"
            ]
          },
          "metadata": {},
          "execution_count": 13
        }
      ]
    },
    {
      "cell_type": "code",
      "source": [
        "ego = train_x[:, 0, :, :]\n",
        "ego.shape"
      ],
      "metadata": {
        "id": "ikRjMMkDNsyy",
        "colab": {
          "base_uri": "https://localhost:8080/"
        },
        "outputId": "292240ee-26a5-44a7-b439-b08eba358c45"
      },
      "execution_count": 14,
      "outputs": [
        {
          "output_type": "execute_result",
          "data": {
            "text/plain": [
              "(10000, 50, 6)"
            ]
          },
          "metadata": {},
          "execution_count": 14
        }
      ]
    },
    {
      "cell_type": "code",
      "source": [
        "ego_pos = ego[:, :, :2]\n",
        "print(\"ego pos shape:\", ego_pos.shape)\n",
        "ego_vel = ego[:, :, 2:4]\n",
        "print(\"ego vel shape:\", ego_vel.shape)\n",
        "ego_heading = ego[:, :, 4]\n",
        "print(\"ego heading shape:\", ego_heading.shape)\n",
        "ego_obj = ego[:, 0, 5].reshape(-1, 1)\n",
        "print(\"ego obj type shape:\", ego_obj.shape)\n",
        "\n",
        "timestamps = np.arange(0, 50, 10, dtype = int).tolist() + [49]\n",
        "ego_pos_10 = ego_pos[:, timestamps, :].reshape(train_x.shape[0], -1)\n",
        "print(\"ego pos 10 shape:\", ego_pos_10.shape)\n",
        "ego_vel_10 = ego_vel[:, timestamps, :].reshape(train_x.shape[0], -1)\n",
        "print(\"ego vel 10 shape:\", ego_vel_10.shape)\n",
        "ego_heading_10 = ego_heading[:, timestamps].reshape(train_x.shape[0], -1)\n",
        "print(\"ego heading 10 shape:\", ego_heading_10.shape)\n",
        "\n",
        "timestamps_last_5 = np.arange(45, 50).tolist()\n",
        "print(timestamps_last_5)\n",
        "ego_pos_last_10 = ego_pos[:, timestamps_last_5, :].reshape(train_x.shape[0], -1)\n",
        "print(ego_pos_last_10.shape)\n",
        "ego_vel_last_10 = ego_vel[:, timestamps_last_5, :].reshape(train_x.shape[0], -1)\n",
        "print(ego_vel_last_10.shape)\n",
        "ego_heading_last_10 = ego_heading[:, timestamps_last_5].reshape(train_x.shape[0], -1)\n",
        "print(ego_heading_last_10.shape)\n",
        "\n",
        "\n",
        "ego_vel_reshape = ego_vel.reshape(train_x.shape[0], 10, 5, 2)\n",
        "ego_avg_vel_5 = np.mean(ego_vel_reshape, axis = 2).reshape(train_x.shape[0], -1)\n",
        "ego_avg_vel_5.shape\n",
        "\n",
        "# calc overall average velocity and heading\n",
        "ego_avg_vel = np.mean(ego_vel, axis = 1)\n",
        "ego_avg_heading = np.mean(ego_heading, axis = 1).reshape(-1, 1)\n",
        "ego_avg_heading.shape\n"
      ],
      "metadata": {
        "id": "StPojp3pNxU1",
        "colab": {
          "base_uri": "https://localhost:8080/"
        },
        "outputId": "ddc41288-a82c-423f-a18a-34b26e0e0370"
      },
      "execution_count": 44,
      "outputs": [
        {
          "output_type": "stream",
          "name": "stdout",
          "text": [
            "ego pos shape: (10000, 50, 2)\n",
            "ego vel shape: (10000, 50, 2)\n",
            "ego heading shape: (10000, 50)\n",
            "ego obj type shape: (10000, 1)\n",
            "ego pos 10 shape: (10000, 12)\n",
            "ego vel 10 shape: (10000, 12)\n",
            "ego heading 10 shape: (10000, 6)\n",
            "[45, 46, 47, 48, 49]\n",
            "(10000, 10)\n",
            "(10000, 10)\n",
            "(10000, 5)\n"
          ]
        },
        {
          "output_type": "execute_result",
          "data": {
            "text/plain": [
              "(10000, 1)"
            ]
          },
          "metadata": {},
          "execution_count": 44
        }
      ]
    },
    {
      "cell_type": "code",
      "source": [
        "class LinearRegressionModel:\n",
        "  def __init__(self):\n",
        "    self.model = LinearRegression()\n",
        "\n",
        "  def extract_features(self, X):\n",
        "    # obtain the ego vehicle's data\n",
        "    ego = X[:, 0, :, :] #(10000, 50, 6)\n",
        "\n",
        "    # obtain ego vehicle positions, velocities, headings, and obj type\n",
        "    ego_pos = ego[:, :, :2] #(10000, 50, 2)\n",
        "    ego_vel = ego[:, :, 2:4] #(10000, 50, 2)\n",
        "    ego_heading = ego[:, :, 4] #(10000, 50)\n",
        "    ego_obj = ego[:, 0, 5].reshape(-1, 1) #(10000, 1)\n",
        "\n",
        "\n",
        "    # timestamps = [0, 10, 20, 30, 40, -1]\n",
        "    timestamps = np.arange(0, 50, 10, dtype = int).tolist() + [49]\n",
        "\n",
        "    # obtain positions, velocities, and heading at every 5 timestamps, including final timestamp\n",
        "    ego_pos_every_10 = ego_pos[:, timestamps, :].reshape(X.shape[0], -1) #(10000, 12)\n",
        "    ego_vel_every_10 = ego_vel[:, timestamps, :].reshape(X.shape[0], -1) #(10000, 12)\n",
        "    ego_heading_every_10 = ego_heading[:, timestamps].reshape(X.shape[0], -1) #(10000, 6)\n",
        "    # ego_heading_every_10_sin = np.sin(ego_heading_every_10)\n",
        "    # ego_heading_every_10_cos = np.cos(ego_heading_every_10)\n",
        "    # ego_heading_every_10 = np.concatenate((ego_heading_every_10_sin, ego_heading_every_10_cos), axis = 1)\n",
        "\n",
        "    # obtain pos, vel, and heading at last 5 timestamps\n",
        "    timestamps_last_5 = np.arange(45, 50).tolist()\n",
        "    ego_pos_last_10 = ego_pos[:, timestamps_last_5, :].reshape(X.shape[0], -1) #(10000, 10)\n",
        "    ego_vel_last_10 = ego_vel[:, timestamps_last_5, :].reshape(X.shape[0], -1) #(10000, 10)\n",
        "    ego_heading_last_10 = ego_heading[:, timestamps_last_5].reshape(X.shape[0], -1) #(10000, 5)\n",
        "    # ego_heading_last_10_sin = np.sin(ego_heading_last_10)\n",
        "    # ego_heading_last_10_cos = np.cos(ego_heading_last_10)\n",
        "    # ego_heading_last_10 = np.concatenate((ego_heading_last_10_sin, ego_heading_last_10_cos), axis = 1)\n",
        "\n",
        "    # calc average velocity and heading between timestamps (every 10 seconds)\n",
        "    ego_vel_reshape = ego_vel.reshape(X.shape[0], 5, 10, 2)\n",
        "    ego_avg_vel_every_10 = np.mean(ego_vel_reshape, axis = 2).reshape(X.shape[0], -1)\n",
        "    ego_heading_reshape = ego_heading.reshape(X.shape[0], 5, 10)\n",
        "    ego_avg_heading_every_10 = np.mean(ego_heading_reshape, axis = 2).reshape(X.shape[0], -1)\n",
        "    # ego_avg_heading_every_10_sin = np.mean(np.sin(ego_heading_reshape), axis = 2)\n",
        "    # ego_avg_heading_every_10_cos = np.mean(np.cos(ego_heading_reshape), axis = 2)\n",
        "    # ego_avg_heading_every_10 = np.concatenate((ego_avg_heading_every_10_sin, ego_avg_heading_every_10_cos), axis = 1)\n",
        "\n",
        "\n",
        "    # calc overall average velocity and heading\n",
        "    ego_avg_vel = np.mean(ego_vel, axis = 1)\n",
        "    ego_avg_heading = np.mean(ego_heading, axis = 1).reshape(-1, 1)\n",
        "    # ego_avg_heading_sin = np.mean(np.sin(ego_heading), axis = 1).reshape(-1, 1)\n",
        "    # ego_avg_heading_cos = np.mean(np.cos(ego_heading), axis = 1).reshape(-1, 1)\n",
        "    # ego_avg_heading = np.concatenate((ego_avg_heading_sin, ego_avg_heading_cos), axis = 1)\n",
        "\n",
        "\n",
        "    # calc acceleration at timestamps\n",
        "    acc_5 = []\n",
        "    for t in timestamps[1:]:\n",
        "      acc = ego_vel[:, t, :] - ego_vel[:, t-1, :] #(10000, 2)\n",
        "      acc_5.append(acc)\n",
        "    ego_acc = np.concatenate(acc_5, axis=1)\n",
        "\n",
        "    # calc distance from 5 closest agents at timestamps\n",
        "    other_pos = X[:, 1:, :, :2]\n",
        "    min_distances = []\n",
        "\n",
        "    for t in timestamps:\n",
        "      ego_pos_t = ego_pos[:, t, :] #(10000, 2)\n",
        "      other_pos_t = other_pos[:, :, t, :] #(10000, 49, 2)\n",
        "\n",
        "      distances = np.linalg.norm(ego_pos_t[:, np.newaxis, :] - other_pos_t, axis = -1) #(10000, 49)\n",
        "      distances_sorted = np.sort(distances, axis = 1) #(10000, 49)\n",
        "      min_distances_5 = distances_sorted[:, :5] #(10000, 5)\n",
        "      min_distances.append(min_distances_5)\n",
        "\n",
        "    ego_min_dist = np.concatenate(min_distances, axis = 1)\n",
        "\n",
        "    # calc total distance traveled\n",
        "    ego_pos_change = ego_pos[:, 1:, :] - ego_pos[:, :-1, :] #(10000, 49, 2)\n",
        "    ego_distance_traveled = np.linalg.norm(ego_pos_change, axis = -1) #(10000, 49)\n",
        "    ego_total_distance = np.sum(ego_distance_traveled, axis = 1).reshape(-1, 1) #(10000, 1)\n",
        "\n",
        "    # features = np.concatenate((ego_pos_every_10, ego_pos_last_10, ego_min_dist, ego_total_distance,\n",
        "    #                            ego_vel_every_10, ego_vel_last_10, ego_avg_vel, ego_avg_vel_every_10,\n",
        "    #                            ego_acc,\n",
        "    #                            ego_heading_every_10, ego_heading_last_10, ego_avg_heading, ego_avg_heading_every_10,\n",
        "    #                            ego_obj), axis = 1)\n",
        "\n",
        "\n",
        "    # features = np.concatenate((ego_pos_every_10, ego_pos_last_10,\n",
        "    #                            ego_vel_every_10, ego_vel_last_10, ego_avg_vel,\n",
        "    #                            ego_heading_every_10, ego_heading_last_10, ego_avg_heading), axis = 1)\n",
        "\n",
        "\n",
        "    # features that obtained 13.08361 mse on kaggle\n",
        "    # features = np.concatenate((ego_pos_every_10, ego_min_dist, ego_total_distance,\n",
        "    #                            ego_vel_every_10, ego_avg_vel,\n",
        "    #                            ego_heading_every_10, ego_avg_heading,\n",
        "    #                            ego_obj), axis = 1)\n",
        "\n",
        "    # features that obtained 13.00014 mse on kaggle\n",
        "    features = np.concatenate((ego_pos_every_10,\n",
        "                               ego_vel_every_10, ego_avg_vel,\n",
        "                               ego_heading_every_10, ego_avg_heading,\n",
        "                               ego_obj), axis = 1)\n",
        "    return features\n",
        "\n",
        "  def fit(self, X, y):\n",
        "    X_features = self.extract_features(X)\n",
        "    y = y.reshape(y.shape[0], -1)\n",
        "    self.model.fit(X_features, y)\n",
        "\n",
        "  def predict(self, X):\n",
        "    X_features = self.extract_features(X)\n",
        "    y_pred = self.model.predict(X_features)\n",
        "    return y_pred.reshape(X.shape[0], 60, 2)\n",
        "\n",
        "  def evaluate(self, X, y):\n",
        "    y_pred = self.predict(X)\n",
        "    mse = ((y_pred - y) ** 2).mean()\n",
        "    print(mse)\n",
        "    return mse\n"
      ],
      "metadata": {
        "id": "lVaxWnG8L50g"
      },
      "execution_count": 35,
      "outputs": []
    },
    {
      "cell_type": "code",
      "source": [
        "# initialize and train\n",
        "linear_model = LinearRegressionModel()\n",
        "linear_model.fit(train_x, train_y)\n",
        "linear_model.evaluate(train_x, train_y)\n",
        "\n",
        "# predict\n",
        "test_x = test_data[..., :50, :]\n",
        "pred_y = linear_model.predict(test_x)#(2100, 60, 2)\n",
        "\n",
        "# save to file\n",
        "output_df = pd.DataFrame(pred_y.reshape(-1, 2), columns=[\"x\", \"y\"])\n",
        "output_df.index.name = \"index\"\n",
        "\n",
        "output_df.to_csv(\"LR_baseline.csv\")"
      ],
      "metadata": {
        "id": "ng68dBs1VZtO",
        "colab": {
          "base_uri": "https://localhost:8080/"
        },
        "outputId": "871c65e1-e0b5-44a3-be31-4a2cdba864b0"
      },
      "execution_count": 36,
      "outputs": [
        {
          "output_type": "stream",
          "name": "stdout",
          "text": [
            "9.867924341740245\n"
          ]
        }
      ]
    },
    {
      "cell_type": "code",
      "source": [
        "class RidgeRegressionModel:\n",
        "  def __init__(self, alpha = 1.0):\n",
        "    self.model = Ridge(alpha = alpha)\n",
        "\n",
        "\n",
        "  def extract_features(self, X):\n",
        "    # obtain the ego vehicle's data\n",
        "    ego = X[:, 0, :, :] #(10000, 50, 6)\n",
        "\n",
        "    # obtain ego vehicle positions, velocities, headings, and obj type\n",
        "    ego_pos = ego[:, :, :2] #(10000, 50, 2)\n",
        "    ego_vel = ego[:, :, 2:4] #(10000, 50, 2)\n",
        "    ego_heading = ego[:, :, 4] #(10000, 50)\n",
        "    ego_obj = ego[:, 0, 5].reshape(-1, 1) #(10000, 1)\n",
        "\n",
        "\n",
        "    # timestamps = [0, 10, 20, 30, 40, -1]\n",
        "    timestamps = np.arange(0, 50, 10, dtype = int).tolist() + [49]\n",
        "\n",
        "    # obtain positions, velocities, and heading at every 5 timestamps, including final timestamp\n",
        "    ego_pos_every_10 = ego_pos[:, timestamps, :].reshape(X.shape[0], -1) #(10000, 12)\n",
        "    ego_vel_every_10 = ego_vel[:, timestamps, :].reshape(X.shape[0], -1) #(10000, 12)\n",
        "    ego_heading_every_10 = ego_heading[:, timestamps].reshape(X.shape[0], -1) #(10000, 6)\n",
        "    # ego_heading_every_10_sin = np.sin(ego_heading_every_10)\n",
        "    # ego_heading_every_10_cos = np.cos(ego_heading_every_10)\n",
        "    # ego_heading_every_10 = np.concatenate((ego_heading_every_10_sin, ego_heading_every_10_cos), axis = 1)\n",
        "\n",
        "    # obtain pos, vel, and heading at last 5 timestamps\n",
        "    timestamps_last_5 = np.arange(45, 50).tolist()\n",
        "    ego_pos_last_10 = ego_pos[:, timestamps_last_5, :].reshape(X.shape[0], -1) #(10000, 10)\n",
        "    ego_vel_last_10 = ego_vel[:, timestamps_last_5, :].reshape(X.shape[0], -1) #(10000, 10)\n",
        "    ego_heading_last_10 = ego_heading[:, timestamps_last_5].reshape(X.shape[0], -1) #(10000, 5)\n",
        "    # ego_heading_last_10_sin = np.sin(ego_heading_last_10)\n",
        "    # ego_heading_last_10_cos = np.cos(ego_heading_last_10)\n",
        "    # ego_heading_last_10 = np.concatenate((ego_heading_last_10_sin, ego_heading_last_10_cos), axis = 1)\n",
        "\n",
        "    # calc average velocity and heading between timestamps (every 10 seconds)\n",
        "    ego_vel_reshape = ego_vel.reshape(X.shape[0], 5, 10, 2)\n",
        "    ego_avg_vel_every_10 = np.mean(ego_vel_reshape, axis = 2).reshape(X.shape[0], -1)\n",
        "    ego_heading_reshape = ego_heading.reshape(X.shape[0], 5, 10)\n",
        "    ego_avg_heading_every_10 = np.mean(ego_heading_reshape, axis = 2).reshape(X.shape[0], -1)\n",
        "    # ego_avg_heading_every_10_sin = np.mean(np.sin(ego_heading_reshape), axis = 2)\n",
        "    # ego_avg_heading_every_10_cos = np.mean(np.cos(ego_heading_reshape), axis = 2)\n",
        "    # ego_avg_heading_every_10 = np.concatenate((ego_avg_heading_every_10_sin, ego_avg_heading_every_10_cos), axis = 1)\n",
        "\n",
        "\n",
        "    # calc overall average velocity and heading\n",
        "    ego_avg_vel = np.mean(ego_vel, axis = 1)\n",
        "    ego_avg_heading = np.mean(ego_heading, axis = 1).reshape(-1, 1)\n",
        "    # ego_avg_heading_sin = np.mean(np.sin(ego_heading), axis = 1).reshape(-1, 1)\n",
        "    # ego_avg_heading_cos = np.mean(np.cos(ego_heading), axis = 1).reshape(-1, 1)\n",
        "    # ego_avg_heading = np.concatenate((ego_avg_heading_sin, ego_avg_heading_cos), axis = 1)\n",
        "\n",
        "\n",
        "    # calc acceleration at timestamps\n",
        "    acc_5 = []\n",
        "    for t in timestamps[1:]:\n",
        "      acc = ego_vel[:, t, :] - ego_vel[:, t-1, :] #(10000, 2)\n",
        "      acc_5.append(acc)\n",
        "    ego_acc = np.concatenate(acc_5, axis=1)\n",
        "\n",
        "    # calc distance from 5 closest agents at timestamps\n",
        "    other_pos = X[:, 1:, :, :2]\n",
        "    min_distances = []\n",
        "\n",
        "    for t in timestamps:\n",
        "      ego_pos_t = ego_pos[:, t, :] #(10000, 2)\n",
        "      other_pos_t = other_pos[:, :, t, :] #(10000, 49, 2)\n",
        "\n",
        "      distances = np.linalg.norm(ego_pos_t[:, np.newaxis, :] - other_pos_t, axis = -1) #(10000, 49)\n",
        "      distances_sorted = np.sort(distances, axis = 1) #(10000, 49)\n",
        "      min_distances_5 = distances_sorted[:, :5] #(10000, 5)\n",
        "      min_distances.append(min_distances_5)\n",
        "\n",
        "    ego_min_dist = np.concatenate(min_distances, axis = 1)\n",
        "\n",
        "    # calc total distance traveled\n",
        "    ego_pos_change = ego_pos[:, 1:, :] - ego_pos[:, :-1, :] #(10000, 49, 2)\n",
        "    ego_distance_traveled = np.linalg.norm(ego_pos_change, axis = -1) #(10000, 49)\n",
        "    ego_total_distance = np.sum(ego_distance_traveled, axis = 1).reshape(-1, 1) #(10000, 1)\n",
        "\n",
        "    # obtained 14.30566 mse on kaggle\n",
        "    # features = np.concatenate((ego_pos_every_10, ego_pos_last_10, ego_min_dist, ego_total_distance,\n",
        "    #                            ego_vel_every_10, ego_vel_last_10, ego_avg_vel, ego_avg_vel_every_10,\n",
        "    #                            ego_acc,\n",
        "    #                            ego_heading_every_10, ego_heading_last_10, ego_avg_heading, ego_avg_heading_every_10,\n",
        "    #                            ego_obj), axis = 1)\n",
        "\n",
        "\n",
        "    # features = np.concatenate((ego_pos_every_10, ego_pos_last_10,\n",
        "    #                            ego_vel_every_10, ego_vel_last_10, ego_avg_vel,\n",
        "    #                            ego_heading_every_10, ego_heading_last_10, ego_avg_heading), axis = 1)\n",
        "\n",
        "\n",
        "    # features that obtained 11.97326 mse on kaggle\n",
        "    # default alpha: 11.97326 mse\n",
        "    features = np.concatenate((ego_pos_every_10,\n",
        "                               ego_vel_every_10, ego_avg_vel,\n",
        "                               ego_heading_every_10, ego_avg_heading,\n",
        "                               ego_obj), axis = 1)\n",
        "    return features\n",
        "\n",
        "  def fit(self, X, y):\n",
        "    X_features = self.extract_features(X)\n",
        "    y = y.reshape(y.shape[0], -1)\n",
        "    self.model.fit(X_features, y)\n",
        "\n",
        "  def predict(self, X):\n",
        "    X_features = self.extract_features(X)\n",
        "    y_pred = self.model.predict(X_features)\n",
        "    return y_pred.reshape(X.shape[0], 60, 2)\n",
        "\n",
        "  def evaluate(self, X, y):\n",
        "    y_pred = self.predict(X)\n",
        "    mse = ((y_pred - y) ** 2).mean()\n",
        "    print(mse)\n",
        "    return mse\n"
      ],
      "metadata": {
        "id": "Doa1tzmjaSxc"
      },
      "execution_count": 41,
      "outputs": []
    },
    {
      "cell_type": "code",
      "source": [
        "# initialize and train\n",
        "Ridge_model = RidgeRegressionModel()\n",
        "Ridge_model.fit(train_x, train_y)\n",
        "Ridge_model.evaluate(train_x, train_y)\n",
        "\n",
        "# predict test\n",
        "test_x = test_data[..., :50, :]\n",
        "pred_y = Ridge_model.predict(test_x) #(2100, 60, 2)\n",
        "\n",
        "# save to file\n",
        "output_df = pd.DataFrame(pred_y.reshape(-1, 2), columns=[\"x\", \"y\"])\n",
        "output_df.index.name = \"index\"\n",
        "\n",
        "output_df.to_csv(\"RR_baseline.csv\")"
      ],
      "metadata": {
        "colab": {
          "base_uri": "https://localhost:8080/"
        },
        "outputId": "3bf43fc9-8b5b-4a02-9e81-f297907b2064",
        "id": "SU7u1e_gafev"
      },
      "execution_count": 42,
      "outputs": [
        {
          "output_type": "stream",
          "name": "stdout",
          "text": [
            "9.904580926241646\n"
          ]
        }
      ]
    },
    {
      "cell_type": "code",
      "source": [
        "class LassoRegressionModel:\n",
        "  def __init__(self, alpha = 0.1):\n",
        "    self.model = Lasso(alpha = alpha)\n",
        "\n",
        "\n",
        "  def extract_features(self, X):\n",
        "    # obtain the ego vehicle's data\n",
        "    ego = X[:, 0, :, :] #(10000, 50, 6)\n",
        "\n",
        "    # obtain ego vehicle positions, velocities, headings, and obj type\n",
        "    ego_pos = ego[:, :, :2] #(10000, 50, 2)\n",
        "    ego_vel = ego[:, :, 2:4] #(10000, 50, 2)\n",
        "    ego_heading = ego[:, :, 4] #(10000, 50)\n",
        "    ego_obj = ego[:, 0, 5].reshape(-1, 1) #(10000, 1)\n",
        "\n",
        "\n",
        "    # timestamps = [0, 10, 20, 30, 40, -1]\n",
        "    timestamps = np.arange(0, 50, 10, dtype = int).tolist() + [49]\n",
        "\n",
        "    # obtain positions, velocities, and heading at every 5 timestamps, including final timestamp\n",
        "    ego_pos_every_10 = ego_pos[:, timestamps, :].reshape(X.shape[0], -1) #(10000, 12)\n",
        "    ego_vel_every_10 = ego_vel[:, timestamps, :].reshape(X.shape[0], -1) #(10000, 12)\n",
        "    ego_heading_every_10 = ego_heading[:, timestamps].reshape(X.shape[0], -1) #(10000, 6)\n",
        "    # ego_heading_every_10_sin = np.sin(ego_heading_every_10)\n",
        "    # ego_heading_every_10_cos = np.cos(ego_heading_every_10)\n",
        "    # ego_heading_every_10 = np.concatenate((ego_heading_every_10_sin, ego_heading_every_10_cos), axis = 1)\n",
        "\n",
        "    # obtain pos, vel, and heading at last 5 timestamps\n",
        "    timestamps_last_5 = np.arange(45, 50).tolist()\n",
        "    ego_pos_last_10 = ego_pos[:, timestamps_last_5, :].reshape(X.shape[0], -1) #(10000, 10)\n",
        "    ego_vel_last_10 = ego_vel[:, timestamps_last_5, :].reshape(X.shape[0], -1) #(10000, 10)\n",
        "    ego_heading_last_10 = ego_heading[:, timestamps_last_5].reshape(X.shape[0], -1) #(10000, 5)\n",
        "    # ego_heading_last_10_sin = np.sin(ego_heading_last_10)\n",
        "    # ego_heading_last_10_cos = np.cos(ego_heading_last_10)\n",
        "    # ego_heading_last_10 = np.concatenate((ego_heading_last_10_sin, ego_heading_last_10_cos), axis = 1)\n",
        "\n",
        "    # calc average velocity and heading between timestamps (every 10 seconds)\n",
        "    ego_vel_reshape = ego_vel.reshape(X.shape[0], 5, 10, 2)\n",
        "    ego_avg_vel_every_10 = np.mean(ego_vel_reshape, axis = 2).reshape(X.shape[0], -1)\n",
        "    ego_heading_reshape = ego_heading.reshape(X.shape[0], 5, 10)\n",
        "    ego_avg_heading_every_10 = np.mean(ego_heading_reshape, axis = 2).reshape(X.shape[0], -1)\n",
        "    # ego_avg_heading_every_10_sin = np.mean(np.sin(ego_heading_reshape), axis = 2)\n",
        "    # ego_avg_heading_every_10_cos = np.mean(np.cos(ego_heading_reshape), axis = 2)\n",
        "    # ego_avg_heading_every_10 = np.concatenate((ego_avg_heading_every_10_sin, ego_avg_heading_every_10_cos), axis = 1)\n",
        "\n",
        "\n",
        "    # calc overall average velocity and heading\n",
        "    ego_avg_vel = np.mean(ego_vel, axis = 1)\n",
        "    ego_avg_heading = np.mean(ego_heading, axis = 1).reshape(-1, 1)\n",
        "    # ego_avg_heading_sin = np.mean(np.sin(ego_heading), axis = 1).reshape(-1, 1)\n",
        "    # ego_avg_heading_cos = np.mean(np.cos(ego_heading), axis = 1).reshape(-1, 1)\n",
        "    # ego_avg_heading = np.concatenate((ego_avg_heading_sin, ego_avg_heading_cos), axis = 1)\n",
        "\n",
        "\n",
        "    # calc acceleration at timestamps\n",
        "    acc_5 = []\n",
        "    for t in timestamps[1:]:\n",
        "      acc = ego_vel[:, t, :] - ego_vel[:, t-1, :] #(10000, 2)\n",
        "      acc_5.append(acc)\n",
        "    ego_acc = np.concatenate(acc_5, axis=1)\n",
        "\n",
        "    # calc distance from 5 closest agents at timestamps\n",
        "    other_pos = X[:, 1:, :, :2]\n",
        "    min_distances = []\n",
        "\n",
        "    for t in timestamps:\n",
        "      ego_pos_t = ego_pos[:, t, :] #(10000, 2)\n",
        "      other_pos_t = other_pos[:, :, t, :] #(10000, 49, 2)\n",
        "\n",
        "      distances = np.linalg.norm(ego_pos_t[:, np.newaxis, :] - other_pos_t, axis = -1) #(10000, 49)\n",
        "      distances_sorted = np.sort(distances, axis = 1) #(10000, 49)\n",
        "      min_distances_5 = distances_sorted[:, :5] #(10000, 5)\n",
        "      min_distances.append(min_distances_5)\n",
        "\n",
        "    ego_min_dist = np.concatenate(min_distances, axis = 1)\n",
        "\n",
        "    # calc total distance traveled\n",
        "    ego_pos_change = ego_pos[:, 1:, :] - ego_pos[:, :-1, :] #(10000, 49, 2)\n",
        "    ego_distance_traveled = np.linalg.norm(ego_pos_change, axis = -1) #(10000, 49)\n",
        "    ego_total_distance = np.sum(ego_distance_traveled, axis = 1).reshape(-1, 1) #(10000, 1)\n",
        "\n",
        "    # obtained 11.82991 on kaggle\n",
        "    # default alpha: 11.82991 mse\n",
        "    features = np.concatenate((ego_pos_every_10, ego_pos_last_10, ego_min_dist, ego_total_distance,\n",
        "                               ego_vel_every_10, ego_vel_last_10, ego_avg_vel, ego_avg_vel_every_10,\n",
        "                               ego_acc,\n",
        "                               ego_heading_every_10, ego_heading_last_10, ego_avg_heading, ego_avg_heading_every_10,\n",
        "                               ego_obj), axis = 1)\n",
        "\n",
        "\n",
        "    # features = np.concatenate((ego_pos_every_10, ego_pos_last_10,\n",
        "    #                            ego_vel_every_10, ego_vel_last_10, ego_avg_vel,\n",
        "    #                            ego_heading_every_10, ego_heading_last_10, ego_avg_heading), axis = 1)\n",
        "\n",
        "\n",
        "    # features that obtained 13.08361 mse on kaggle\n",
        "    # features = np.concatenate((ego_pos_every_10, ego_min_dist, ego_total_distance,\n",
        "    #                            ego_vel_every_10, ego_avg_vel,\n",
        "    #                            ego_heading_every_10, ego_avg_heading,\n",
        "    #                            ego_obj), axis = 1)\n",
        "\n",
        "    # features that obtained 13.00014 mse on kaggle\n",
        "    # features = np.concatenate((ego_pos_every_10,\n",
        "    #                            ego_vel_every_10, ego_avg_vel,\n",
        "    #                            ego_heading_every_10, ego_avg_heading,\n",
        "    #                            ego_obj), axis = 1)\n",
        "    return features\n",
        "\n",
        "  def fit(self, X, y):\n",
        "    X_features = self.extract_features(X)\n",
        "    y = y.reshape(y.shape[0], -1)\n",
        "    self.model.fit(X_features, y)\n",
        "\n",
        "  def predict(self, X):\n",
        "    X_features = self.extract_features(X)\n",
        "    y_pred = self.model.predict(X_features)\n",
        "    return y_pred.reshape(X.shape[0], 60, 2)\n",
        "\n",
        "  def evaluate(self, X, y):\n",
        "    y_pred = self.predict(X)\n",
        "    mse = ((y_pred - y) ** 2).mean()\n",
        "    print(mse)\n",
        "    return mse\n"
      ],
      "metadata": {
        "id": "KxdqM-4XbV_P"
      },
      "execution_count": 39,
      "outputs": []
    },
    {
      "cell_type": "code",
      "source": [
        "# initialize and train\n",
        "Lasso_model = LassoRegressionModel()\n",
        "Lasso_model.fit(train_x, train_y)\n",
        "Lasso_model.evaluate(train_x, train_y)\n",
        "\n",
        "# predict\n",
        "test_x = test_data[..., :50, :]\n",
        "pred_y = Lasso_model.predict(test_x) #(2100, 60, 2)\n",
        "\n",
        "# save to file\n",
        "output_df = pd.DataFrame(pred_y.reshape(-1, 2), columns=[\"x\", \"y\"])\n",
        "output_df.index.name = \"index\"\n",
        "\n",
        "output_df.to_csv(\"LassoR_baseline.csv\")"
      ],
      "metadata": {
        "colab": {
          "base_uri": "https://localhost:8080/"
        },
        "outputId": "50fa778b-8f4d-4919-86ea-ec94d6ed6f0c",
        "id": "5xzNLmX4bV_Q"
      },
      "execution_count": 40,
      "outputs": [
        {
          "output_type": "stream",
          "name": "stdout",
          "text": [
            "11.057567109238647\n"
          ]
        }
      ]
    },
    {
      "cell_type": "code",
      "source": [
        "class MLP(nn.Module):\n",
        "    def __init__(self, input_features, output_features):\n",
        "        super(MLP, self).__init__()\n",
        "\n",
        "        # Define the layers\n",
        "        self.flatten = nn.Flatten()\n",
        "        self.mlp = nn.Sequential(\n",
        "            nn.Linear(input_features, 1024),\n",
        "            nn.ReLU(),\n",
        "            nn.Dropout(0.1),\n",
        "\n",
        "            nn.Linear(1024, 512),\n",
        "            nn.ReLU(),\n",
        "            nn.Dropout(0.1),\n",
        "\n",
        "            nn.Linear(512, 256),\n",
        "            nn.ReLU(),\n",
        "            nn.Dropout(0.1),\n",
        "\n",
        "            nn.Linear(256, output_features)\n",
        "        )\n",
        "\n",
        "    def forward(self, x):\n",
        "        x = self.flatten(x)\n",
        "        x = self.mlp(x)\n",
        "        return x"
      ],
      "metadata": {
        "id": "WM0Tf7wROzso"
      },
      "execution_count": 33,
      "outputs": []
    },
    {
      "cell_type": "code",
      "source": [
        "# Calculate the total number of features after flattening\n",
        "input_features = 50 * 50 * 6  # = 5000\n",
        "output_features = 60 * 2\n",
        "\n",
        "\n",
        "# Create the model\n",
        "model = MLP(input_features, output_features)\n",
        "\n",
        "# Define loss function and optimizer\n",
        "criterion = nn.MSELoss()  # For regression task\n",
        "\n",
        "optimizer = optim.Adam(model.parameters(), lr=0.001)"
      ],
      "metadata": {
        "id": "h_PZ3DTVO894"
      },
      "execution_count": null,
      "outputs": []
    },
    {
      "cell_type": "code",
      "source": [
        "# Example of how to prepare data and train the model\n",
        "\n",
        "def train_model(model, x_train, y_train, batch_size=64, epochs=10):\n",
        "    # Convert numpy arrays to PyTorch tensors\n",
        "    X_train_tensor = torch.FloatTensor(x_train).reshape((-1, input_features))\n",
        "    y_train_tensor = torch.FloatTensor(y_train).reshape((-1, output_features))\n",
        "\n",
        "    # Create dataset and dataloader\n",
        "    train_dataset = TensorDataset(X_train_tensor, y_train_tensor)\n",
        "    train_loader = DataLoader(train_dataset, batch_size=batch_size, shuffle=True)\n",
        "\n",
        "    # Training loop\n",
        "    for epoch in range(epochs):\n",
        "        running_loss = 0.0\n",
        "\n",
        "        for batch_X, batch_y in tqdm(train_loader):\n",
        "            # Zero the parameter gradients\n",
        "            optimizer.zero_grad()\n",
        "\n",
        "            # Forward pass\n",
        "            outputs = model(batch_X)\n",
        "\n",
        "            # Calculate loss\n",
        "            loss = criterion(outputs, batch_y)\n",
        "\n",
        "            # Backward pass and optimize\n",
        "            loss.backward()\n",
        "            optimizer.step()\n",
        "\n",
        "            running_loss += loss.item()\n",
        "\n",
        "        # Print epoch statistics\n",
        "        print(f'Epoch {epoch+1}, Loss: {running_loss/len(train_loader):.4f}')\n",
        "    return model"
      ],
      "metadata": {
        "id": "99CNF_35O_Eh"
      },
      "execution_count": null,
      "outputs": []
    },
    {
      "cell_type": "code",
      "source": [
        "model = train_model(model, train_x, train_y)"
      ],
      "metadata": {
        "colab": {
          "base_uri": "https://localhost:8080/"
        },
        "id": "ixKV3iAiO_fV",
        "outputId": "d87e810f-67a6-4ff5-8e0d-8b8edb85e7bf"
      },
      "execution_count": null,
      "outputs": [
        {
          "output_type": "stream",
          "name": "stderr",
          "text": [
            "100%|██████████| 157/157 [00:37<00:00,  4.19it/s]\n"
          ]
        },
        {
          "output_type": "stream",
          "name": "stdout",
          "text": [
            "Epoch 1, Loss: 819188.5563\n"
          ]
        },
        {
          "output_type": "stream",
          "name": "stderr",
          "text": [
            "100%|██████████| 157/157 [00:36<00:00,  4.28it/s]\n"
          ]
        },
        {
          "output_type": "stream",
          "name": "stdout",
          "text": [
            "Epoch 2, Loss: 279568.8788\n"
          ]
        },
        {
          "output_type": "stream",
          "name": "stderr",
          "text": [
            "100%|██████████| 157/157 [00:36<00:00,  4.26it/s]\n"
          ]
        },
        {
          "output_type": "stream",
          "name": "stdout",
          "text": [
            "Epoch 3, Loss: 246158.7485\n"
          ]
        },
        {
          "output_type": "stream",
          "name": "stderr",
          "text": [
            "100%|██████████| 157/157 [00:37<00:00,  4.24it/s]\n"
          ]
        },
        {
          "output_type": "stream",
          "name": "stdout",
          "text": [
            "Epoch 4, Loss: 260408.8877\n"
          ]
        },
        {
          "output_type": "stream",
          "name": "stderr",
          "text": [
            "100%|██████████| 157/157 [00:36<00:00,  4.33it/s]\n"
          ]
        },
        {
          "output_type": "stream",
          "name": "stdout",
          "text": [
            "Epoch 5, Loss: 286280.9787\n"
          ]
        },
        {
          "output_type": "stream",
          "name": "stderr",
          "text": [
            "100%|██████████| 157/157 [00:37<00:00,  4.16it/s]\n"
          ]
        },
        {
          "output_type": "stream",
          "name": "stdout",
          "text": [
            "Epoch 6, Loss: 217687.6553\n"
          ]
        },
        {
          "output_type": "stream",
          "name": "stderr",
          "text": [
            "100%|██████████| 157/157 [00:37<00:00,  4.16it/s]\n"
          ]
        },
        {
          "output_type": "stream",
          "name": "stdout",
          "text": [
            "Epoch 7, Loss: 211675.7551\n"
          ]
        },
        {
          "output_type": "stream",
          "name": "stderr",
          "text": [
            "100%|██████████| 157/157 [00:37<00:00,  4.15it/s]\n"
          ]
        },
        {
          "output_type": "stream",
          "name": "stdout",
          "text": [
            "Epoch 8, Loss: 206086.9246\n"
          ]
        },
        {
          "output_type": "stream",
          "name": "stderr",
          "text": [
            "100%|██████████| 157/157 [00:37<00:00,  4.18it/s]\n"
          ]
        },
        {
          "output_type": "stream",
          "name": "stdout",
          "text": [
            "Epoch 9, Loss: 220627.7597\n"
          ]
        },
        {
          "output_type": "stream",
          "name": "stderr",
          "text": [
            "100%|██████████| 157/157 [00:37<00:00,  4.17it/s]\n"
          ]
        },
        {
          "output_type": "stream",
          "name": "stdout",
          "text": [
            "Epoch 10, Loss: 240343.7753\n"
          ]
        }
      ]
    },
    {
      "cell_type": "code",
      "source": [
        "def predict(X_test):\n",
        "    \"\"\"Make predictions with the trained model\"\"\"\n",
        "    model.eval()  # Set to evaluation mode\n",
        "    with torch.no_grad():\n",
        "        X_test_tensor = torch.FloatTensor(X_test).reshape((-1, input_features))\n",
        "        predictions = model(X_test_tensor).reshape((-1, 60, 2))\n",
        "    return predictions.numpy()\n",
        "\n",
        "# Save model\n",
        "def save_model(path=\"mlp_model.pth\"):\n",
        "    torch.save(model.state_dict(), path)\n",
        "    print(f\"Model saved to {path}\")\n",
        "\n",
        "# Load model\n",
        "def load_model(path=\"mlp_model.pth\"):\n",
        "    loaded_model = MLP()\n",
        "    loaded_model.load_state_dict(torch.load(path))\n",
        "    loaded_model.eval()\n",
        "    return loaded_model"
      ],
      "metadata": {
        "id": "rEp4gNqGPB9q"
      },
      "execution_count": null,
      "outputs": []
    },
    {
      "cell_type": "code",
      "source": [
        "pred_y = predict(test_data)\n",
        "\n",
        "pred_output = pred_y.reshape(-1, 2)\n",
        "output_df = pd.DataFrame(pred_output, columns=['x', 'y'])\n",
        "\n",
        "# adding a necessary step to match index of your prediction to that of the solution key\n",
        "\n",
        "output_df.index.name = 'index'\n",
        "\n",
        "output_df.to_csv('mlp_baseline.csv')"
      ],
      "metadata": {
        "id": "5djC8fUOPDLQ"
      },
      "execution_count": null,
      "outputs": []
    },
    {
      "cell_type": "code",
      "source": [],
      "metadata": {
        "id": "le_wSvCvPrCV"
      },
      "execution_count": null,
      "outputs": []
    }
  ]
}